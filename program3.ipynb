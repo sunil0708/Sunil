{
 "cells": [
  {
   "cell_type": "code",
   "execution_count": 9,
   "id": "f48ff2a2",
   "metadata": {},
   "outputs": [
    {
     "name": "stdout",
     "output_type": "stream",
     "text": [
      "True\n",
      "False\n",
      "False\n",
      "Kevin\n"
     ]
    }
   ],
   "source": [
    "Str1 = \"kevin\"\n",
    "print(Str1.startswith('k'))\n",
    "print(Str1.endswith('A'))\n",
    "print(Str1.endswith(\"N\"))\n",
    "print(Str1.capitalize())"
   ]
  },
  {
   "cell_type": "code",
   "execution_count": null,
   "id": "7e0eca8e",
   "metadata": {},
   "outputs": [],
   "source": []
  }
 ],
 "metadata": {
  "kernelspec": {
   "display_name": "Python 3 (ipykernel)",
   "language": "python",
   "name": "python3"
  },
  "language_info": {
   "codemirror_mode": {
    "name": "ipython",
    "version": 3
   },
   "file_extension": ".py",
   "mimetype": "text/x-python",
   "name": "python",
   "nbconvert_exporter": "python",
   "pygments_lexer": "ipython3",
   "version": "3.9.12"
  }
 },
 "nbformat": 4,
 "nbformat_minor": 5
}
