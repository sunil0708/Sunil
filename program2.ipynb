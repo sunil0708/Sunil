{
 "cells": [
  {
   "cell_type": "code",
   "execution_count": 42,
   "id": "5101af03",
   "metadata": {},
   "outputs": [],
   "source": [
    "Str1 = \"Argentina\""
   ]
  },
  {
   "cell_type": "code",
   "execution_count": 43,
   "id": "69c4266c",
   "metadata": {},
   "outputs": [
    {
     "data": {
      "text/plain": [
       "('', 'Argen', 'tina')"
      ]
     },
     "execution_count": 43,
     "metadata": {},
     "output_type": "execute_result"
    }
   ],
   "source": [
    "Str2 = Str1.partition('Argen')\n",
    "Str2"
   ]
  },
  {
   "cell_type": "code",
   "execution_count": 44,
   "id": "1e5d9f5f",
   "metadata": {},
   "outputs": [
    {
     "data": {
      "text/plain": [
       "'Argen'"
      ]
     },
     "execution_count": 44,
     "metadata": {},
     "output_type": "execute_result"
    }
   ],
   "source": [
    "str3 = Str1[0:5]\n",
    "str3"
   ]
  },
  {
   "cell_type": "code",
   "execution_count": 45,
   "id": "d2127471",
   "metadata": {},
   "outputs": [
    {
     "data": {
      "text/plain": [
       "'negrA'"
      ]
     },
     "execution_count": 45,
     "metadata": {},
     "output_type": "execute_result"
    }
   ],
   "source": [
    "str3[::-1]"
   ]
  },
  {
   "cell_type": "code",
   "execution_count": 46,
   "id": "7f4261f0",
   "metadata": {},
   "outputs": [
    {
     "data": {
      "text/plain": [
       "'negrA'"
      ]
     },
     "execution_count": 46,
     "metadata": {},
     "output_type": "execute_result"
    }
   ],
   "source": [
    "Str = Str1[4::-1]\n",
    "Str"
   ]
  },
  {
   "cell_type": "code",
   "execution_count": 47,
   "id": "5b4dea63",
   "metadata": {},
   "outputs": [
    {
     "data": {
      "text/plain": [
       "'tina'"
      ]
     },
     "execution_count": 47,
     "metadata": {},
     "output_type": "execute_result"
    }
   ],
   "source": [
    "Str4 = Str1[5:]\n",
    "Str4"
   ]
  },
  {
   "cell_type": "code",
   "execution_count": 48,
   "id": "a8922c37",
   "metadata": {},
   "outputs": [
    {
     "data": {
      "text/plain": [
       "'negrAtina'"
      ]
     },
     "execution_count": 48,
     "metadata": {},
     "output_type": "execute_result"
    }
   ],
   "source": [
    "str1 = Str+Str4\n",
    "str1"
   ]
  },
  {
   "cell_type": "code",
   "execution_count": null,
   "id": "01edfd7d",
   "metadata": {},
   "outputs": [],
   "source": []
  },
  {
   "cell_type": "code",
   "execution_count": null,
   "id": "51f0b633",
   "metadata": {},
   "outputs": [],
   "source": []
  },
  {
   "cell_type": "code",
   "execution_count": null,
   "id": "5a8d85d4",
   "metadata": {},
   "outputs": [],
   "source": []
  },
  {
   "cell_type": "code",
   "execution_count": null,
   "id": "626881af",
   "metadata": {},
   "outputs": [],
   "source": []
  },
  {
   "cell_type": "code",
   "execution_count": null,
   "id": "68d708a4",
   "metadata": {},
   "outputs": [],
   "source": []
  },
  {
   "cell_type": "code",
   "execution_count": null,
   "id": "89692e55",
   "metadata": {},
   "outputs": [],
   "source": []
  }
 ],
 "metadata": {
  "kernelspec": {
   "display_name": "Python 3 (ipykernel)",
   "language": "python",
   "name": "python3"
  },
  "language_info": {
   "codemirror_mode": {
    "name": "ipython",
    "version": 3
   },
   "file_extension": ".py",
   "mimetype": "text/x-python",
   "name": "python",
   "nbconvert_exporter": "python",
   "pygments_lexer": "ipython3",
   "version": "3.9.12"
  }
 },
 "nbformat": 4,
 "nbformat_minor": 5
}
